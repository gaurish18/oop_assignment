{
 "cells": [
  {
   "cell_type": "markdown",
   "id": "88ebf9ef-fafe-4834-b594-9b4a05fcc993",
   "metadata": {},
   "source": [
    "Q1. Explain Class and Object with respect to Object-Oriented Programming. Give a suitable example."
   ]
  },
  {
   "cell_type": "markdown",
   "id": "7d61763f-02ab-4eba-8f7e-ee2b63301a98",
   "metadata": {},
   "source": [
    "ans-In object-oriented programming (OOP), a class and an object are fundamental concepts used to model and organize data and behavior in a program. Let me explain each concept and provide a suitable example:\n",
    "\n",
    "Class:\n",
    "A class is a blueprint or a template for creating objects. It defines the structure and behavior that objects of that class will have.A class describes the attributes (data) and methods (functions) that the objects of the class will possess.\n",
    "Classes are essentially a way to encapsulate data and functionality into a single unit."
   ]
  },
  {
   "cell_type": "code",
   "execution_count": 1,
   "id": "f072ffbb-7f52-41cb-81bb-4608281f3b03",
   "metadata": {},
   "outputs": [],
   "source": [
    "#Let's create a Person class as an example. This class will serve as a blueprint for creating individual person objects."
   ]
  },
  {
   "cell_type": "code",
   "execution_count": 2,
   "id": "56fd56c6-4b96-4c5f-9114-74d7b005bb85",
   "metadata": {},
   "outputs": [
    {
     "name": "stdout",
     "output_type": "stream",
     "text": [
      "Alice\n",
      "30\n",
      "Hi, I'm Alice and I'm 30 years old.\n"
     ]
    }
   ],
   "source": [
    "class Person:\n",
    "    # Constructor to initialize attributes\n",
    "    def __init__(self, name, age):\n",
    "        self.name = name\n",
    "        self.age = age\n",
    "    \n",
    "    # Method to introduce the person\n",
    "    def introduce(self):\n",
    "        print(f\"Hi, I'm {self.name} and I'm {self.age} years old.\")\n",
    "\n",
    "# Creating an instance of the Person class\n",
    "person1 = Person(\"Alice\", 30)\n",
    "\n",
    "# Accessing attributes and calling methods\n",
    "print(person1.name) \n",
    "print(person1.age)   \n",
    "person1.introduce() \n"
   ]
  },
  {
   "cell_type": "markdown",
   "id": "4452e3e6-9724-4a76-91ee-037e58eaf1f9",
   "metadata": {},
   "source": [
    "In this example, Person is a class that has attributes name and age, as well as a method introduce. The person1 object is an instance of the Person class, which has its own specific name and age values. The introduce method can be called on the person1 object to introduce itself."
   ]
  },
  {
   "cell_type": "markdown",
   "id": "aa3b6d2c-e844-4574-89b9-9f756f3b6362",
   "metadata": {},
   "source": [
    "Object:\n",
    "An object is an instance of a class. It's a concrete representation of the blueprint defined by the class.\n",
    "Objects have their own unique attributes and can perform actions specified by the methods of the class.\n",
    "You can create multiple objects from the same class, each with its own set of attribute values."
   ]
  },
  {
   "cell_type": "code",
   "execution_count": 3,
   "id": "b872b0f9-6a5c-47af-8b67-c645ddf7a1d1",
   "metadata": {},
   "outputs": [],
   "source": [
    "#Let's create another person object:"
   ]
  },
  {
   "cell_type": "code",
   "execution_count": 4,
   "id": "466405e1-2033-4f1c-8074-946e247097f7",
   "metadata": {},
   "outputs": [
    {
     "name": "stdout",
     "output_type": "stream",
     "text": [
      "Bob\n",
      "25\n",
      "Hi, I'm Bob and I'm 25 years old.\n"
     ]
    }
   ],
   "source": [
    "person2 = Person(\"Bob\", 25)\n",
    "\n",
    "# Accessing attributes and calling methods for the new object\n",
    "print(person2.name)  \n",
    "print(person2.age)   \n",
    "person2.introduce()  "
   ]
  },
  {
   "cell_type": "markdown",
   "id": "42ff7f8f-9579-4d32-87ea-9a8386dabed3",
   "metadata": {},
   "source": [
    "In this case, person2 is another object created from the Person class, and it has its own distinct attribute values, which are separate from the attributes of person1.\n",
    "\n",
    "In summary, a class defines a blueprint for creating objects, and objects are instances of that class with their own unique attributes and methods. This concept of classes and objects is at the core of object-oriented programming and is used to model and organize data and behavior in a structured and modular way."
   ]
  },
  {
   "cell_type": "code",
   "execution_count": null,
   "id": "2c3fbf25-c637-42ca-8487-67684315b37f",
   "metadata": {},
   "outputs": [],
   "source": []
  },
  {
   "cell_type": "markdown",
   "id": "0d4a5154-0d07-4e58-9ecd-7f3284b4052f",
   "metadata": {},
   "source": [
    "Q2. Name the four pillars of OOPs."
   ]
  },
  {
   "cell_type": "markdown",
   "id": "3749c1eb-d234-482c-9df7-91f2926536dd",
   "metadata": {},
   "source": [
    "ans-The four pillars of object-oriented programming (OOP) are:\n",
    "\n",
    "1. Encapsulation:\n",
    "   - Encapsulation is the concept of bundling data (attributes) and the methods (functions) that operate on that data into a single unit, known as a class.\n",
    "   - It enforces access control and data hiding to restrict the direct access to some of an object's components. In other words, it protects the internal state of an object from external interference.\n",
    "   - Encapsulation helps maintain the integrity and consistency of an object's data by providing a well-defined interface (public methods) for interacting with the object while hiding the implementation details.\n",
    "\n",
    "2. Abstraction:\n",
    "   - Abstraction involves simplifying complex reality by modeling classes based on the essential attributes and behaviors while ignoring non-essential details.\n",
    "   - It allows you to create abstract classes and methods that define a common interface for a set of related classes. Concrete subclasses then implement this interface.\n",
    "   - Abstraction helps manage complexity, promotes code reusability, and allows you to work with high-level concepts rather than low-level details.\n",
    "\n",
    "3. Inheritance:\n",
    "   - Inheritance is a mechanism that allows a new class (subclass or derived class) to inherit properties and behaviors from an existing class (base class or parent class).\n",
    "   - It promotes code reuse and the creation of a hierarchical relationship between classes, where subclasses inherit the attributes and methods of the superclass.\n",
    "   - Inheritance is used to model the \"is-a\" relationship, where a subclass is a specialized version of the superclass.\n",
    "\n",
    "4. Polymorphism:\n",
    "   - Polymorphism allows objects of different classes to be treated as objects of a common base class, which simplifies code and increases flexibility.\n",
    "   - Polymorphism can be achieved through method overriding (redefining a method in a subclass) and method overloading (providing multiple methods with the same name but different parameters).\n",
    "   - It enables dynamic method dispatch, where the appropriate method to execute is determined at runtime based on the actual type of the object.\n",
    "\n",
    "These four pillars provide the foundation for designing and implementing object-oriented systems. They help structure code, improve code organization, promote code reusability, and make it easier to model real-world entities in a software system."
   ]
  },
  {
   "cell_type": "code",
   "execution_count": null,
   "id": "6899dd4c-ac25-4f73-925c-ac018091451c",
   "metadata": {},
   "outputs": [],
   "source": []
  },
  {
   "cell_type": "markdown",
   "id": "a9cd6427-687c-43f3-9691-9d537f488272",
   "metadata": {},
   "source": [
    "Q3. Explain why the __init__() function is used. Give a suitable example."
   ]
  },
  {
   "cell_type": "markdown",
   "id": "23540912-409b-4db2-ad75-d171b650a045",
   "metadata": {},
   "source": [
    "ans-The __init__() function, also known as the constructor or initializer, is a special method in Python classes. It is used to initialize the attributes (data members) of an object when an instance of a class is created. The __init__() method is called automatically when an object is created from a class, and it allows you to set up the initial state of the object by assigning values to its attributes.\n",
    "\n",
    "Here's why the __init__() function is used:\n",
    "\n",
    "Initialization: The primary purpose of the __init__() method is to initialize the attributes of an object. It allows you to provide default values or accept values from outside to set up the object's initial state.\n",
    "\n",
    "Customization: The __init__() method can take parameters, enabling you to customize the initialization process for each object. This makes it possible to create objects with different attribute values.\n",
    "\n",
    "Encapsulation: By setting up the initial state of an object within the __init__() method, you encapsulate the object's internal data, which enforces data hiding and access control. This is an important aspect of encapsulation in object-oriented programming."
   ]
  },
  {
   "cell_type": "code",
   "execution_count": 5,
   "id": "ff8ba8e6-1845-4b3d-ba18-d5e5e7ce0bf2",
   "metadata": {},
   "outputs": [],
   "source": [
    "#Here's a suitable example to illustrate the use of the __init__() function:"
   ]
  },
  {
   "cell_type": "code",
   "execution_count": 10,
   "id": "50645cdc-8aa0-440a-9312-0f0071c3d5a0",
   "metadata": {},
   "outputs": [
    {
     "name": "stdout",
     "output_type": "stream",
     "text": [
      "Hi, I'm Alice and I'm 30 years old.\n",
      "Hi, I'm Bob and I'm 25 years old.\n"
     ]
    }
   ],
   "source": [
    "class Person:\n",
    "    def __init__(self, name, age):\n",
    "        self.name = name\n",
    "        self.age = age\n",
    "\n",
    "    def introduce(self):\n",
    "        print(f\"Hi, I'm {self.name} and I'm {self.age} years old.\")\n",
    "\n",
    "# Creating two Person objects with different attribute values\n",
    "person1 = Person(\"Alice\", 30)\n",
    "person2 = Person(\"Bob\", 25)\n",
    "\n",
    "# Using the introduce method to introduce the two persons\n",
    "person1.introduce()  # Output: Hi, I'm Alice and I'm 30 years old.\n",
    "person2.introduce()  # Output: Hi, I'm Bob and I'm 25 years old.\n"
   ]
  },
  {
   "cell_type": "markdown",
   "id": "44e8b124-d897-4d65-862c-3a0c71c9d8d9",
   "metadata": {},
   "source": [
    "In this example, the __init__() method is defined in the Person class. When you create instances of the Person class (person1 and person2), the __init__() method is automatically called with the provided arguments (name and age) to initialize the attributes of each person object. This way, you can create objects with specific initial values, and each object maintains its own state."
   ]
  },
  {
   "cell_type": "code",
   "execution_count": null,
   "id": "7b386a8b-9919-421d-9129-67f52dfa92b6",
   "metadata": {},
   "outputs": [],
   "source": []
  },
  {
   "cell_type": "markdown",
   "id": "bd237367-c34c-4447-87ee-7165b7bed7dc",
   "metadata": {},
   "source": [
    "Q4. Why self is used in OOPs?"
   ]
  },
  {
   "cell_type": "markdown",
   "id": "0254dc53-3611-4ff4-9810-70b1e38070ad",
   "metadata": {},
   "source": [
    "In object-oriented programming (OOP), self is a convention in languages like Python and some others. It is a reference to the current instance of a class. It's not a keyword or a reserved word but rather a parameter name that is commonly used.\n",
    "\n",
    "The use of self serves several important purposes in OOP:\n",
    "\n",
    "1.Instance Specific: In OOP, objects are instances of classes, and each instance has its own unique set of attributes and     data. self is used to refer to these instance-specific attributes. It distinguishes instance variables from local variables within methods.\n",
    "\n",
    "2.Method Access: self allows methods in a class to access other methods and attributes of the same instance. This is crucial for the functionality of the object as it enables methods to interact with and modify the object's state.\n",
    "\n",
    "3.Attribute Access: Using self, you can access and modify the attributes of an object. It helps in setting and retrieving the values of instance variables.\n",
    "\n",
    "4.Readability and Convention: The use of self is a widely accepted convention in Python and many other OOP languages. It improves code readability by making it clear when you are working with instance-specific data."
   ]
  },
  {
   "cell_type": "code",
   "execution_count": null,
   "id": "c063d1bc-4c1a-4cac-af9b-85723052d708",
   "metadata": {},
   "outputs": [],
   "source": []
  },
  {
   "cell_type": "markdown",
   "id": "b5096c93-acde-403b-80d9-806b044c7608",
   "metadata": {},
   "source": [
    "Q5. What is inheritance? Give an example for each type of inheritance."
   ]
  },
  {
   "cell_type": "markdown",
   "id": "b6dcb255-415a-45cb-9218-8d64770ce3fc",
   "metadata": {},
   "source": [
    "ans-\n",
    "Inheritance is one of the fundamental concepts in object-oriented programming (OOP). It allows you to create a new class (called the subclass or derived class) by deriving properties and behaviors from an existing class (called the superclass or base class). Inheritance models the \"is-a\" relationship, where the subclass is a specialized version of the superclass.\n",
    "\n",
    "There are several types of inheritance, including:\n",
    "\n",
    "1.Single Inheritance:\n",
    "\n",
    "In single inheritance, a class inherits from only one superclass. This is the simplest form of inheritance.\n",
    "Example: Suppose you have a Vehicle superclass, and you create a Car subclass that inherits from Vehicle"
   ]
  },
  {
   "cell_type": "code",
   "execution_count": 11,
   "id": "e8e9d91a-44f6-4ff6-95e8-c1f20c827052",
   "metadata": {},
   "outputs": [
    {
     "name": "stdout",
     "output_type": "stream",
     "text": [
      "Driving the Toyota Camry car.\n"
     ]
    }
   ],
   "source": [
    "class Vehicle:\n",
    "    def __init__(self, make, model):\n",
    "        self.make = make\n",
    "        self.model = model\n",
    "\n",
    "class Car(Vehicle):\n",
    "    def drive(self):\n",
    "        print(f\"Driving the {self.make} {self.model} car.\")\n",
    "\n",
    "car = Car(\"Toyota\", \"Camry\")\n",
    "car.drive() \n"
   ]
  },
  {
   "cell_type": "markdown",
   "id": "43b55f19-955b-4601-b71d-eaec51cbd13c",
   "metadata": {},
   "source": [
    "2.Multiple Inheritance:\n",
    "\n",
    "In multiple inheritance, a class can inherit from more than one superclass. This allows the subclass to inherit properties and behaviors from multiple sources.\n",
    "Example: Suppose you have classes A and B, and you create a class C that inherits from both A and B"
   ]
  },
  {
   "cell_type": "code",
   "execution_count": 12,
   "id": "ca51f5a9-85ec-41b3-892d-4a8a440e0d61",
   "metadata": {},
   "outputs": [
    {
     "name": "stdout",
     "output_type": "stream",
     "text": [
      "Method A from class A\n",
      "Method B from class B\n",
      "Method C from class C\n"
     ]
    }
   ],
   "source": [
    "class A:\n",
    "    def method_a(self):\n",
    "        print(\"Method A from class A\")\n",
    "\n",
    "class B:\n",
    "    def method_b(self):\n",
    "        print(\"Method B from class B\")\n",
    "\n",
    "class C(A, B):\n",
    "    def method_c(self):\n",
    "        print(\"Method C from class C\")\n",
    "\n",
    "obj = C()\n",
    "obj.method_a()  \n",
    "obj.method_b()  \n",
    "obj.method_c()  \n"
   ]
  },
  {
   "cell_type": "markdown",
   "id": "55efb3e6-9222-44b0-9c48-1e6599f9d09a",
   "metadata": {},
   "source": [
    "3.Multilevel Inheritance:\n",
    "\n",
    "In multilevel inheritance, a class inherits from a superclass, and then another class inherits from that subclass, creating a chain of inheritance.\n",
    "Example: Suppose you have classes A, B, and C, where B inherits from A, and C inherits from B."
   ]
  },
  {
   "cell_type": "code",
   "execution_count": 13,
   "id": "110d0eef-4a19-4015-a4c4-6f7dd642803d",
   "metadata": {},
   "outputs": [
    {
     "name": "stdout",
     "output_type": "stream",
     "text": [
      "Method A from class A\n",
      "Method B from class B\n",
      "Method C from class C\n"
     ]
    }
   ],
   "source": [
    "class A:\n",
    "    def method_a(self):\n",
    "        print(\"Method A from class A\")\n",
    "\n",
    "class B(A):\n",
    "    def method_b(self):\n",
    "        print(\"Method B from class B\")\n",
    "\n",
    "class C(B):\n",
    "    def method_c(self):\n",
    "        print(\"Method C from class C\")\n",
    "\n",
    "obj = C()\n",
    "obj.method_a() \n",
    "obj.method_b() \n",
    "obj.method_c()  \n"
   ]
  },
  {
   "cell_type": "markdown",
   "id": "743d0f68-7a21-428f-bb5e-0f0f5885d2f6",
   "metadata": {},
   "source": [
    "4.Hierarchical Inheritance:\n",
    "\n",
    "In hierarchical inheritance, multiple classes inherit from a single superclass. This means that multiple subclasses share a common superclass.\n",
    "Example: Suppose you have a Shape superclass, and you create Circle and Rectangle subclasses, both inheriting from Shape."
   ]
  },
  {
   "cell_type": "code",
   "execution_count": 14,
   "id": "7c70fe70-a277-47c6-8481-bf033c94ee6c",
   "metadata": {},
   "outputs": [
    {
     "name": "stdout",
     "output_type": "stream",
     "text": [
      "Circle Area: 78.5\n",
      "Rectangle Area: 24\n"
     ]
    }
   ],
   "source": [
    "class Shape:\n",
    "    def area(self):\n",
    "        pass\n",
    "\n",
    "class Circle(Shape):\n",
    "    def __init__(self, radius):\n",
    "        self.radius = radius\n",
    "\n",
    "    def area(self):\n",
    "        return 3.14 * self.radius * self.radius\n",
    "\n",
    "class Rectangle(Shape):\n",
    "    def __init__(self, length, width):\n",
    "        self.length = length\n",
    "        self.width = width\n",
    "\n",
    "    def area(self):\n",
    "        return self.length * self.width\n",
    "\n",
    "circle = Circle(5)\n",
    "rectangle = Rectangle(4, 6)\n",
    "\n",
    "print(\"Circle Area:\", circle.area()) \n",
    "print(\"Rectangle Area:\", rectangle.area())  \n"
   ]
  },
  {
   "cell_type": "code",
   "execution_count": null,
   "id": "a388e198-61cc-4e86-bf00-678c1f941c5e",
   "metadata": {},
   "outputs": [],
   "source": []
  }
 ],
 "metadata": {
  "kernelspec": {
   "display_name": "Python 3 (ipykernel)",
   "language": "python",
   "name": "python3"
  },
  "language_info": {
   "codemirror_mode": {
    "name": "ipython",
    "version": 3
   },
   "file_extension": ".py",
   "mimetype": "text/x-python",
   "name": "python",
   "nbconvert_exporter": "python",
   "pygments_lexer": "ipython3",
   "version": "3.10.8"
  }
 },
 "nbformat": 4,
 "nbformat_minor": 5
}
